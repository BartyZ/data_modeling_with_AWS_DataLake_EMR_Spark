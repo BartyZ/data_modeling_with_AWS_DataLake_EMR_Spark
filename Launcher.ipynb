{
 "cells": [
  {
   "cell_type": "markdown",
   "metadata": {
    "editable": true
   },
   "source": [
    "# Launcher"
   ]
  },
  {
   "cell_type": "markdown",
   "metadata": {
    "editable": true
   },
   "source": [
    "To run the ETL process you have to run **etl.py** "
   ]
  },
  {
   "cell_type": "markdown",
   "metadata": {
    "editable": true
   },
   "source": [
    "## Run etl.py\n",
    "Process the data"
   ]
  },
  {
   "cell_type": "code",
   "execution_count": null,
   "metadata": {
    "editable": true
   },
   "outputs": [],
   "source": [
    "# etl takes about ... minutes to finish.\n",
    "\n",
    "%run etl.py"
   ]
  },
  {
   "cell_type": "markdown",
   "metadata": {
    "editable": true
   },
   "source": [
    "----------------------------------"
   ]
  },
  {
   "cell_type": "markdown",
   "metadata": {
    "editable": true
   },
   "source": [
    "# Additional tests from the development phase"
   ]
  },
  {
   "cell_type": "markdown",
   "metadata": {
    "editable": true
   },
   "source": [
    "## Your sandbox"
   ]
  },
  {
   "cell_type": "code",
   "execution_count": null,
   "metadata": {
    "editable": true
   },
   "outputs": [],
   "source": []
  },
  {
   "cell_type": "markdown",
   "metadata": {
    "editable": true
   },
   "source": [
    "#### Run Spark session and define variables"
   ]
  },
  {
   "cell_type": "code",
   "execution_count": 5,
   "metadata": {
    "editable": true
   },
   "outputs": [],
   "source": [
    "import configparser\n",
    "from datetime import datetime\n",
    "import os\n",
    "from pyspark.sql import SparkSession\n",
    "from pyspark.sql.functions import udf, col\n",
    "from pyspark.sql.functions import year, month, dayofmonth, hour, weekofyear, date_format\n",
    "import pyspark.sql.functions as F\n",
    "from pyspark.sql import types as T\n",
    "import time\n",
    "\n",
    "config = configparser.ConfigParser()\n",
    "config.read('dl.cfg')\n",
    "\n",
    "os.environ['AWS_ACCESS_KEY_ID']=config['AWS']['AWS_ACCESS_KEY_ID']\n",
    "os.environ['AWS_SECRET_ACCESS_KEY']=config['AWS']['AWS_SECRET_ACCESS_KEY']\n",
    "\n",
    "\n",
    "spark = SparkSession \\\n",
    "    .builder \\\n",
    "    .config(\"spark.jars.packages\", \"org.apache.hadoop:hadoop-aws:2.7.0\") \\\n",
    "    .getOrCreate()\n",
    "\n",
    "input_data = \"s3a://udacity-dend/\"\n",
    "output_data = \"s3a://bartsdatalakepublic1/\""
   ]
  },
  {
   "cell_type": "markdown",
   "metadata": {
    "editable": true
   },
   "source": [
    "#### Process Song data"
   ]
  },
  {
   "cell_type": "code",
   "execution_count": 6,
   "metadata": {
    "editable": true
   },
   "outputs": [
    {
     "name": "stdout",
     "output_type": "stream",
     "text": [
      "Start time:\n"
     ]
    },
    {
     "ename": "AttributeError",
     "evalue": "type object 'datetime.datetime' has no attribute 'datetime'",
     "output_type": "error",
     "traceback": [
      "\u001b[0;31m---------------------------------------------------------------------------\u001b[0m",
      "\u001b[0;31mAttributeError\u001b[0m                            Traceback (most recent call last)",
      "\u001b[0;32m<ipython-input-6-f03c805220a5>\u001b[0m in \u001b[0;36m<module>\u001b[0;34m()\u001b[0m\n\u001b[1;32m      1\u001b[0m \u001b[0mprint\u001b[0m\u001b[0;34m(\u001b[0m\u001b[0;34m\"Start time:\"\u001b[0m\u001b[0;34m)\u001b[0m\u001b[0;34m\u001b[0m\u001b[0m\n\u001b[0;32m----> 2\u001b[0;31m \u001b[0mprint\u001b[0m\u001b[0;34m(\u001b[0m\u001b[0mdatetime\u001b[0m\u001b[0;34m.\u001b[0m\u001b[0mdatetime\u001b[0m\u001b[0;34m.\u001b[0m\u001b[0mfromtimestamp\u001b[0m\u001b[0;34m(\u001b[0m\u001b[0mtime\u001b[0m\u001b[0;34m.\u001b[0m\u001b[0mtime\u001b[0m\u001b[0;34m(\u001b[0m\u001b[0;34m)\u001b[0m\u001b[0;34m)\u001b[0m\u001b[0;34m.\u001b[0m\u001b[0misoformat\u001b[0m\u001b[0;34m(\u001b[0m\u001b[0;34m)\u001b[0m\u001b[0;34m)\u001b[0m\u001b[0;34m\u001b[0m\u001b[0m\n\u001b[0m\u001b[1;32m      3\u001b[0m \u001b[0;31m###############################################################\u001b[0m\u001b[0;34m\u001b[0m\u001b[0;34m\u001b[0m\u001b[0m\n\u001b[1;32m      4\u001b[0m \u001b[0;34m\u001b[0m\u001b[0m\n\u001b[1;32m      5\u001b[0m \u001b[0;31m# get filepath to song data file\u001b[0m\u001b[0;34m\u001b[0m\u001b[0;34m\u001b[0m\u001b[0m\n",
      "\u001b[0;31mAttributeError\u001b[0m: type object 'datetime.datetime' has no attribute 'datetime'"
     ]
    }
   ],
   "source": [
    "print(\"Start time:\")\n",
    "print(datetime.datetime.fromtimestamp(time.time()).isoformat())\n",
    "###############################################################\n",
    "\n",
    "# get filepath to song data file\n",
    "song_data = os.path.join(input_data, 'song_data/A/A/A/*.json')\n",
    "\n",
    "# read song data file\n",
    "df = spark.read.json(song_data)\n",
    "\n",
    "# extract columns to create songs table\n",
    "songs_table = df.select(\"song_id\", \"title\", \"artist_id\", \"year\", \"duration\")\n",
    "\n",
    "# write songs table to parquet files partitioned by year and artist\n",
    "songs_output = os.path.join(output_data, \"songs\")\n",
    "songs_table.write.partitionBy(\"year\", \"artist_id\").parquet(songs_output, mode=\"overwrite\")\n",
    "\n",
    "# extract columns to create artists table\n",
    "artists_table = df.selectExpr(\"artist_id\", \"artist_name as name\", \"artist_location as location\", \"artist_latitude as latitude\", \"artist_longitude as longitude\")\n",
    "\n",
    "# write artists table to parquet files\n",
    "artists_output = os.path.join(output_data, \"artists\")\n",
    "artists_table.write.parquet(artists_output, mode=\"overwrite\")\n",
    "\n",
    "###############################################################\n",
    "print(\"End time:\")\n",
    "print(datetime.datetime.fromtimestamp(time.time()).isoformat())\n",
    "\n",
    "### Execution time: 1m 30s"
   ]
  },
  {
   "cell_type": "markdown",
   "metadata": {
    "editable": true
   },
   "source": [
    "#### Process Log data"
   ]
  },
  {
   "cell_type": "code",
   "execution_count": 2,
   "metadata": {
    "editable": true
   },
   "outputs": [
    {
     "name": "stdout",
     "output_type": "stream",
     "text": [
      "Start time:\n"
     ]
    },
    {
     "ename": "AttributeError",
     "evalue": "type object 'datetime.datetime' has no attribute 'datetime'",
     "output_type": "error",
     "traceback": [
      "\u001b[0;31m---------------------------------------------------------------------------\u001b[0m",
      "\u001b[0;31mAttributeError\u001b[0m                            Traceback (most recent call last)",
      "\u001b[0;32m<ipython-input-2-8b1e627a4195>\u001b[0m in \u001b[0;36m<module>\u001b[0;34m()\u001b[0m\n\u001b[1;32m      1\u001b[0m \u001b[0mprint\u001b[0m\u001b[0;34m(\u001b[0m\u001b[0;34m\"Start time:\"\u001b[0m\u001b[0;34m)\u001b[0m\u001b[0;34m\u001b[0m\u001b[0m\n\u001b[0;32m----> 2\u001b[0;31m \u001b[0mprint\u001b[0m\u001b[0;34m(\u001b[0m\u001b[0mdatetime\u001b[0m\u001b[0;34m.\u001b[0m\u001b[0mdatetime\u001b[0m\u001b[0;34m.\u001b[0m\u001b[0mfromtimestamp\u001b[0m\u001b[0;34m(\u001b[0m\u001b[0mtime\u001b[0m\u001b[0;34m.\u001b[0m\u001b[0mtime\u001b[0m\u001b[0;34m(\u001b[0m\u001b[0;34m)\u001b[0m\u001b[0;34m)\u001b[0m\u001b[0;34m.\u001b[0m\u001b[0misoformat\u001b[0m\u001b[0;34m(\u001b[0m\u001b[0;34m)\u001b[0m\u001b[0;34m)\u001b[0m\u001b[0;34m\u001b[0m\u001b[0m\n\u001b[0m\u001b[1;32m      3\u001b[0m \u001b[0;31m###############################################################\u001b[0m\u001b[0;34m\u001b[0m\u001b[0;34m\u001b[0m\u001b[0m\n\u001b[1;32m      4\u001b[0m \u001b[0;34m\u001b[0m\u001b[0m\n\u001b[1;32m      5\u001b[0m \u001b[0;31m# define the below to convert timestamp column later\u001b[0m\u001b[0;34m\u001b[0m\u001b[0;34m\u001b[0m\u001b[0m\n",
      "\u001b[0;31mAttributeError\u001b[0m: type object 'datetime.datetime' has no attribute 'datetime'"
     ]
    }
   ],
   "source": [
    "print(\"Start time:\")\n",
    "print(datetime.datetime.fromtimestamp(time.time()).isoformat())\n",
    "###############################################################\n",
    "\n",
    "# define the below to convert timestamp column later\n",
    "get_timestamp = udf(lambda x: datetime.fromtimestamp(int(x)/1000.0),T.TimestampType())\n",
    "get_datetime = udf(lambda x: datetime.fromtimestamp(int(x)/1000.0),T.DateType())\n",
    "\n",
    "# get filepath to log data file\n",
    "log_data = os.path.join(input_data, 'log_data/2018/11/*.json')\n",
    "\n",
    "# read log data file\n",
    "df = spark.read.json(log_data)\n",
    "\n",
    "# filter by actions for song plays, \n",
    "# define timestamp and datetime columns in the same step\n",
    "df = df[df['page']==\"NextSong\"].withColumn(\"timestamp\", get_timestamp(df.ts)).withColumn(\"datetime\", get_datetime(df.ts))\n",
    "\n",
    "# extract columns for users table    \n",
    "users_table = df.selectExpr(\"userId as user_id\", \"firstName as first_name\", \"lastName as last_name\", \"gender\", \"level\")\n",
    "\n",
    "# write users table to parquet files\n",
    "users_output = os.path.join(output_data, \"users\")\n",
    "users_table.write.parquet(users_output, mode=\"overwrite\")\n",
    "\n",
    "# create timestamp column from original timestamp column\n",
    "# df = df.withColumn(\"timestamp\", get_timestamp(df.ts)) # this has been already done above\n",
    "\n",
    "# create datetime column from original timestamp column\n",
    "# df = df.withColumn(\"datetime\", get_datetime(df.ts)) # this has been already done above\n",
    "\n",
    "# extract columns to create time table\n",
    "time_table = df.selectExpr(\"timestamp as start_date\", \n",
    "                           \"hour(timestamp) as hour\",\n",
    "                           \"day(datetime) as day\",\n",
    "                           \"weekofyear(datetime) as week\",\n",
    "                           \"month(datetime) as month\",\n",
    "                           \"year(datetime) as year\",\n",
    "                           \"date_format(datetime, 'EEEE') as weekday\"\n",
    "                          )\n",
    "\n",
    "# write time table to parquet files partitioned by year and month\n",
    "time_output = os.path.join(output_data, \"time\")\n",
    "time_table.write.partitionBy(\"year\", \"month\").parquet(time_output, mode=\"overwrite\")\n",
    "\n",
    "# read in song data to use for songplays table\n",
    "song_data = os.path.join(input_data, 'song_data/A/A/A/*.json')\n",
    "song_df = spark.read.json(song_data)\n",
    "\n",
    "# extract columns from joined song and log datasets to create songplays table \n",
    "songplays_table = df.join(song_df, (df.song == song_df.title) & (df.artist == song_df.artist_name) & (df.length == song_df.duration), how='left')\\\n",
    "    .select(\n",
    "        col(\"timestamp\").alias('start_time'),\n",
    "        col(\"userId\").alias('user_id'),\n",
    "        df.level,\n",
    "        song_df.song_id,\n",
    "        song_df.artist_id,\n",
    "        col(\"sessionId\").alias(\"session_id\"),\n",
    "        df.location,\n",
    "        col(\"useragent\").alias(\"user_agent\"),\n",
    "        year('datetime').alias('year'),\n",
    "        month('datetime').alias('month')\n",
    "    )\n",
    "\n",
    "# write songplays table to parquet files partitioned by year and month\n",
    "songplays_output = os.path.join(output_data, \"songplays\")\n",
    "songplays_table.write.partitionBy(\"year\", \"month\").parquet(songplays_output, mode=\"overwrite\")\n",
    "\n",
    "###############################################################\n",
    "print(\"End time:\")\n",
    "print(datetime.datetime.fromtimestamp(time.time()).isoformat())\n",
    "\n",
    "### Execution time: 40s without songplays"
   ]
  }
 ],
 "metadata": {
  "kernelspec": {
   "display_name": "Python 3",
   "language": "python",
   "name": "python3"
  },
  "language_info": {
   "codemirror_mode": {
    "name": "ipython",
    "version": 3
   },
   "file_extension": ".py",
   "mimetype": "text/x-python",
   "name": "python",
   "nbconvert_exporter": "python",
   "pygments_lexer": "ipython3",
   "version": "3.6.3"
  }
 },
 "nbformat": 4,
 "nbformat_minor": 4
}
